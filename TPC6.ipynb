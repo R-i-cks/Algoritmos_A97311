{
 "cells": [
  {
   "cell_type": "code",
   "execution_count": 2,
   "metadata": {},
   "outputs": [],
   "source": [
    "import matplotlib.pyplot as plt"
   ]
  },
  {
   "cell_type": "code",
   "execution_count": 3,
   "metadata": {},
   "outputs": [],
   "source": [
    "def menu():\n",
    "    print( \"\"\" Menu \n",
    "        0 - sair \n",
    "        1 - criar polinomio\n",
    "        2 - calcular polinomio\n",
    "        3 - calcular tabela e mostrar , nlinhas\n",
    "        4 - simplificar polinomios\n",
    "        5 - calcular derivada \n",
    "        6 - ver o gráfico da função \"\"\")"
   ]
  },
  {
   "cell_type": "code",
   "execution_count": 4,
   "metadata": {},
   "outputs": [],
   "source": [
    "def criarTermo(coef,exp):\n",
    "    return(coef,exp)\n",
    "\n",
    "def criarPolinomio():\n",
    "    return[]\n",
    "\n",
    "def inserirTermo(p,t):\n",
    "    return p.append(t)"
   ]
  },
  {
   "cell_type": "code",
   "execution_count": 8,
   "metadata": {},
   "outputs": [],
   "source": [
    "def verTermo(t):\n",
    "    c= int(t[0])\n",
    "    e=int(t[1])\n",
    "    if c>1 or c<-1:\n",
    "        if e>1:\n",
    "            return(str(c)+\"x^\" + str(e))\n",
    "        elif e==1:\n",
    "            return(str(c)+\"x\")\n",
    "        elif e==0:\n",
    "            return(str(c))\n",
    "    elif c==1 or c==-1:\n",
    "        if e>1:\n",
    "            return(\"x^\" + str(e))\n",
    "        elif e==1:\n",
    "            return(\"x\")\n",
    "        elif e==0:\n",
    "            return(str(c))\n",
    "        "
   ]
  },
  {
   "cell_type": "code",
   "execution_count": null,
   "metadata": {},
   "outputs": [],
   "source": [
    "def VerPolinomio(p):\n",
    "    res=\"\"\n",
    "    i=0\n",
    "    for t in p:\n",
    "        a,b=t\n",
    "        if res==\"\":\n",
    "            res=str(verTermo(t))\n",
    "        elif int(a)>0:\n",
    "            res= res + \" + \" + str(verTermo(t))\n",
    "        elif int(a)<0:\n",
    "            res= res + \" \" + str(verTermo(t))\n",
    "    print(res)"
   ]
  },
  {
   "cell_type": "code",
   "execution_count": null,
   "metadata": {},
   "outputs": [],
   "source": [
    "def calcPol(p,x):\n",
    "    tot=0\n",
    "    for elem in p:\n",
    "        c,e = elem\n",
    "        tot= tot + c*(x**e)\n",
    "    return tot"
   ]
  },
  {
   "cell_type": "code",
   "execution_count": null,
   "metadata": {},
   "outputs": [],
   "source": [
    "def tabela(p,nlinhas):\n",
    "    for i in range(nlinhas):\n",
    "        print(\"Para x = \" + str(i) + \"  \" + str(calcPol(p,i)))"
   ]
  },
  {
   "cell_type": "code",
   "execution_count": null,
   "metadata": {},
   "outputs": [],
   "source": [
    "def ChaveOrd(p):\n",
    "    _,e=p\n",
    "    return e"
   ]
  },
  {
   "cell_type": "code",
   "execution_count": null,
   "metadata": {},
   "outputs": [],
   "source": [
    "def OrdPol(p):\n",
    "   p.sort(reverse=True , key = ChaveOrd)\n",
    "   return p"
   ]
  },
  {
   "cell_type": "code",
   "execution_count": null,
   "metadata": {},
   "outputs": [],
   "source": [
    "def tupplis(t):\n",
    "    L=[]\n",
    "    for elem in t:\n",
    "        a,b =elem\n",
    "        L.append([a,b])\n",
    "    return L\n",
    "\n"
   ]
  },
  {
   "cell_type": "code",
   "execution_count": null,
   "metadata": {},
   "outputs": [],
   "source": [
    "def lisptup(l):\n",
    "    L=[]\n",
    "    for elem in l:\n",
    "        a,b =elem\n",
    "        L.append((a,b))\n",
    "    return L\n"
   ]
  },
  {
   "cell_type": "code",
   "execution_count": null,
   "metadata": {},
   "outputs": [],
   "source": [
    "def simpPol(p):\n",
    "    p=tupplis(OrdPol(p))\n",
    "    i=0\n",
    "    while i!=(len(p)-1):\n",
    "       a,b= p[i]\n",
    "       c,d =p[i+1]\n",
    "       if b==d:\n",
    "           inserirTermo(p,criarTermo(a+c,b))\n",
    "           p.remove(p[i])\n",
    "           p.remove(p[i])\n",
    "           simpPol(p)\n",
    "       else:\n",
    "           i=i+1\n",
    "    return p\n",
    "    \n",
    "    "
   ]
  },
  {
   "cell_type": "code",
   "execution_count": null,
   "metadata": {},
   "outputs": [],
   "source": [
    "def derivada(pol):\n",
    "    pol=tupplis(pol)\n",
    "    for elem in pol:\n",
    "        if elem[1]>1:\n",
    "            elem[0] = elem[0]*elem[1]\n",
    "            elem[1] = elem[1]-1\n",
    "        elif elem[1]==1:\n",
    "            elem[1] = 0\n",
    "        else:\n",
    "            elem[0]=\"0\"\n",
    "    pol=lisptup(pol)\n",
    "    return pol\n",
    "\n"
   ]
  },
  {
   "cell_type": "code",
   "execution_count": null,
   "metadata": {},
   "outputs": [],
   "source": [
    "\n",
    "def vergraf(pol):\n",
    "    x= [i for i in range(-100,100)]\n",
    "    y=[]\n",
    "    for n in x:\n",
    "        y.append(calcPol(pol,n))\n",
    "    plt.plot(x,y) \n",
    "    plt.xlabel(\"Abcissas\")\n",
    "    plt.ylabel(\"Ordenadas\")\n"
   ]
  },
  {
   "cell_type": "code",
   "execution_count": 10,
   "metadata": {},
   "outputs": [
    {
     "name": "stdout",
     "output_type": "stream",
     "text": [
      " Menu \n",
      "        0 - sair \n",
      "        1 - criar polinomio\n",
      "        2 - calcular polinomio\n",
      "        3 - calcular tabela e mostrar , nlinhas\n",
      "        4 - simplificar polinomios\n",
      "        5 - calcular derivada \n",
      "        6 - ver o gráfico da função \n",
      "Qual é a sua opção?  1\n",
      "Quantos termos tem o seu polinómio?  3\n",
      "Introduza o valor de coeficiente: -5\n",
      "Introduza o valor de expoente:  2\n",
      "Introduza o valor de coeficiente: 3\n",
      "Introduza o valor de expoente:  1\n",
      "Introduza o valor de coeficiente: 2\n",
      "Introduza o valor de expoente:  0\n"
     ]
    },
    {
     "ename": "NameError",
     "evalue": "name 'VerPolinomio' is not defined",
     "output_type": "error",
     "traceback": [
      "\u001b[0;31m---------------------------------------------------------------------------\u001b[0m",
      "\u001b[0;31mNameError\u001b[0m                                 Traceback (most recent call last)",
      "\u001b[0;32m<ipython-input-10-24d534961780>\u001b[0m in \u001b[0;36m<module>\u001b[0;34m\u001b[0m\n\u001b[1;32m     11\u001b[0m             \u001b[0mexpoente\u001b[0m\u001b[0;34m=\u001b[0m\u001b[0mint\u001b[0m\u001b[0;34m(\u001b[0m\u001b[0minput\u001b[0m\u001b[0;34m(\u001b[0m\u001b[0;34m\"Introduza o valor de expoente:  \"\u001b[0m\u001b[0;34m)\u001b[0m\u001b[0;34m)\u001b[0m\u001b[0;34m\u001b[0m\u001b[0;34m\u001b[0m\u001b[0m\n\u001b[1;32m     12\u001b[0m             \u001b[0minserirTermo\u001b[0m\u001b[0;34m(\u001b[0m\u001b[0mpol\u001b[0m\u001b[0;34m,\u001b[0m\u001b[0mcriarTermo\u001b[0m\u001b[0;34m(\u001b[0m\u001b[0mcoeficiente\u001b[0m\u001b[0;34m,\u001b[0m\u001b[0mexpoente\u001b[0m\u001b[0;34m)\u001b[0m\u001b[0;34m)\u001b[0m\u001b[0;34m\u001b[0m\u001b[0;34m\u001b[0m\u001b[0m\n\u001b[0;32m---> 13\u001b[0;31m         \u001b[0mVerPolinomio\u001b[0m\u001b[0;34m(\u001b[0m\u001b[0mpol\u001b[0m\u001b[0;34m)\u001b[0m\u001b[0;34m\u001b[0m\u001b[0;34m\u001b[0m\u001b[0m\n\u001b[0m\u001b[1;32m     14\u001b[0m     \u001b[0;32melif\u001b[0m \u001b[0mpol\u001b[0m\u001b[0;34m!=\u001b[0m\u001b[0;34m\"empty\"\u001b[0m\u001b[0;34m:\u001b[0m\u001b[0;34m\u001b[0m\u001b[0;34m\u001b[0m\u001b[0m\n\u001b[1;32m     15\u001b[0m         \u001b[0;32mif\u001b[0m \u001b[0mop\u001b[0m\u001b[0;34m==\u001b[0m\u001b[0;34m\"2\"\u001b[0m\u001b[0;34m:\u001b[0m\u001b[0;34m\u001b[0m\u001b[0;34m\u001b[0m\u001b[0m\n",
      "\u001b[0;31mNameError\u001b[0m: name 'VerPolinomio' is not defined"
     ]
    }
   ],
   "source": [
    "\n",
    "menu()\n",
    "op=-1\n",
    "pol=\"empty\"\n",
    "while op!=\"0\":\n",
    "    op=input(\"Qual é a sua opção?  \")\n",
    "    if op==\"1\":\n",
    "        pol=criarPolinomio()\n",
    "        grau=int(input(\"Quantos termos tem o seu polinómio?  \")) \n",
    "        for i in range(grau):\n",
    "            coeficiente=int(input(\"Introduza o valor de coeficiente: \"))  \n",
    "            expoente=int(input(\"Introduza o valor de expoente:  \"))  \n",
    "            inserirTermo(pol,criarTermo(coeficiente,expoente))\n",
    "        VerPolinomio(pol)\n",
    "    elif pol!=\"empty\":\n",
    "        if op==\"2\":\n",
    "            if pol!=None:\n",
    "                valx=int(input(\"Introduza o valor de x: \"))\n",
    "                print(calcPol(pol,valx))\n",
    "        elif op==\"3\":\n",
    "            nlinhas=int(input(\"Até que valor de x pretende calcular o polinómio? \"))\n",
    "            tabela(pol,nlinhas+1)\n",
    "        \n",
    "        elif op==\"4\":\n",
    "            pol=simpPol(pol)\n",
    "            VerPolinomio(lisptup(pol))\n",
    "\n",
    "        elif op==\"5\":\n",
    "            pol=derivada(pol)\n",
    "            VerPolinomio(pol)\n",
    "        \n",
    "        elif op==\"6\":\n",
    "            vergraf(pol)\n",
    "    \n",
    "        \n",
    "    elif op==\"0\":\n",
    "        print(\"Hasta la vista\")\n",
    "    else: \n",
    "        print(\"Erro\")\n",
    "         \n",
    "\n",
    "\n",
    "\n",
    "\n",
    "\n"
   ]
  },
  {
   "cell_type": "code",
   "execution_count": null,
   "metadata": {},
   "outputs": [],
   "source": []
  },
  {
   "cell_type": "code",
   "execution_count": null,
   "metadata": {},
   "outputs": [],
   "source": []
  }
 ],
 "metadata": {
  "interpreter": {
   "hash": "fa50475b9c25ebc2e3f1c26bd870e64f090f900e9ad9428ddf41a89bbc9885cf"
  },
  "kernelspec": {
   "display_name": "Python 3",
   "language": "python",
   "name": "python3"
  },
  "language_info": {
   "codemirror_mode": {
    "name": "ipython",
    "version": 3
   },
   "file_extension": ".py",
   "mimetype": "text/x-python",
   "name": "python",
   "nbconvert_exporter": "python",
   "pygments_lexer": "ipython3",
   "version": "3.6.13"
  }
 },
 "nbformat": 4,
 "nbformat_minor": 2
}
