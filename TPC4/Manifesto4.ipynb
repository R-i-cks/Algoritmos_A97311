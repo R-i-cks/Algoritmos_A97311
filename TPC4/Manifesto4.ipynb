{
 "cells": [
  {
   "cell_type": "markdown",
   "metadata": {},
   "source": [
    "# Manifesto TPC4\n",
    "\n",
    "Data de início: 2021/10/25\n",
    "\n",
    "Data de término: 2021/10/31\n",
    "\n",
    "Supervisor: José Carlos Ramalho http://www.di.uminho.pt/~jcr/\n",
    "\n",
    "Autor: Ricardo Lopes Araújo A97311\n",
    "\n",
    "\n",
    "## Resumo\n",
    "\n"
   ]
  },
  {
   "cell_type": "markdown",
   "metadata": {},
   "source": [
    "* Algumas das funções deste TPC foram feitas em contexto de aula e minimamente alteradas de forma a permitir um fluxo de informação entre as restantes.\n",
    "* Neste programa o utilizador pode escolher entre 9 opções num menu, caindo as 6 primeiras em operações sobre um ou dois tuplos de cada vez, e as restantes sobre listas de tuplos, desta forma manipulando cada tuplo como uma fração.\n",
    "* A 1ª opção cria um tuplo com os valores de numerador e denominador introduzidos.\n",
    "* A 2ª opção pega no tuplo introduzido, ou resultante de outras operações e simplifica-o, utilizando a regra do máximo divisor comum.\n",
    "* A 3ª opção permite ao jogador introduzir outro tuplo (fração) que será somado a outro que tiver sido introduzido ou seja um resultado.\n",
    "* A 4ª opção baseia-se na 3ª , mas para subtrair.\n",
    "* A 5ª opção multiplica 2 tuplos entre si, posição a posição (0 com 0 e 1 com 1).\n",
    "* A 6ª opção divide dois tuplos através da multiplicação do inverso (ex: (a/b)/(c/d) = (a/b)*(d/c))\n",
    "* A 7ª opção gera uma lista com n tuplos, sendo n introduzido pelo utilizador, em que ambos os elementos são selecionados entre 1 e 100 através da função random.randint().\n",
    "* A 8ª opção tem como objetivo somar 2 listas de tuplos/frações,abrindo caminho a 3 caminhos principais ou 2 mensagens (Erro ou falta de lista); Os 2 primeiros verificam-se caso a 7ª opção lhe anteceda - O jogador pode escolher entre introduzir uma lista a somar manualmente ou gerá-la automaticamente; Numa outra situação o jogador pode introduzir 2 listas manualmente e calcular a sua soma. \n",
    "* A 9ª e última opção percorre a última lista utilizada, seja ela gerada ou resultado de soma, e determina qual a fração maior, ou seja, o tuplo da lista cujo rácio entre posição 0 e posição 1 é maior.\n",
    "\n",
    "\n",
    "\n"
   ]
  }
 ],
 "metadata": {
  "language_info": {
   "name": "python"
  },
  "orig_nbformat": 4
 },
 "nbformat": 4,
 "nbformat_minor": 2
}
