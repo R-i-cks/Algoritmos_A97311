{
 "cells": [
  {
   "cell_type": "code",
   "execution_count": null,
   "metadata": {},
   "outputs": [],
   "source": [
    "def menu():\n",
    "    print(\"\"\" O que pretende fazer?\n",
    "    1 Criar fração\n",
    "    2 Simplificar fração\n",
    "    3 Somar outra fração\n",
    "    4 Subtração de funções\n",
    "    5 Multiplicação de funções\n",
    "    6 Divisão \n",
    "    7 Gerar lista de n frações \n",
    "    8 Somar lista\n",
    "    9 Maior fração \n",
    "    0 Sair \"\"\")"
   ]
  },
  {
   "cell_type": "code",
   "execution_count": null,
   "metadata": {},
   "outputs": [],
   "source": [
    "def criarFracao(numerador,denominador):\n",
    "    return (numerador, denominador)"
   ]
  },
  {
   "cell_type": "code",
   "execution_count": null,
   "metadata": {},
   "outputs": [],
   "source": [
    "def verFracao(f):\n",
    "    return(str(f[0])+\"/\"+ str(f[1])) "
   ]
  },
  {
   "cell_type": "code",
   "execution_count": null,
   "metadata": {},
   "outputs": [],
   "source": [
    "def mdc(a,b):\n",
    "    if int(a)<int(b) :\n",
    "        return mdc(int(b),int(a))\n",
    "    elif (int(a) % int(b))==0 :\n",
    "        return b\n",
    "    else:\n",
    "        return mdc(int(a),int(a)%int(b))"
   ]
  },
  {
   "cell_type": "code",
   "execution_count": null,
   "metadata": {},
   "outputs": [],
   "source": [
    "def simplificarFracao(f):\n",
    "    num,denom = f\n",
    "    a=mdc(num,denom)\n",
    "    return(int(num)/int(a), int(denom)/int(a))\n"
   ]
  },
  {
   "cell_type": "code",
   "execution_count": null,
   "metadata": {},
   "outputs": [],
   "source": [
    "def somafrac(f1,f2):\n",
    "    num1, den1 = f1\n",
    "    num2, den2 = f2\n",
    "    n1=int(num1)*int(den2)\n",
    "    n2=int(num2)*int(den1)\n",
    "    dent=int(den1)*int(den2)\n",
    "    return(simplificarFracao(criarFracao(n1+n2,dent)))"
   ]
  },
  {
   "cell_type": "code",
   "execution_count": null,
   "metadata": {},
   "outputs": [],
   "source": [
    "def subfrac(f1,f2):\n",
    "    num1, den1 = f1\n",
    "    num2, den2 = f2\n",
    "    n1=int(num1)*int(den2)\n",
    "    n2=int(num2)*int(den1)\n",
    "    dent=int(den1)*int(den2)\n",
    "    return(simplificarFracao(criarFracao(n1-n2,dent)))"
   ]
  },
  {
   "cell_type": "code",
   "execution_count": null,
   "metadata": {},
   "outputs": [],
   "source": [
    "def multfunc(f1,f2):\n",
    "    num1, den1 = f1\n",
    "    num2, den2 = f2\n",
    "    return(simplificarFracao(criarFracao(int(num1)*int(num2),int(den1)*int(den2))))"
   ]
  },
  {
   "cell_type": "code",
   "execution_count": null,
   "metadata": {},
   "outputs": [],
   "source": [
    "def divfunc(f1,f2):\n",
    "    num1, den1 = f1\n",
    "    num2, den2 = f2\n",
    "    return(simplificarFracao(criarFracao(int(num1)*int(den2),int(den1)*int(num2))))\n",
    "    \n"
   ]
  },
  {
   "cell_type": "code",
   "execution_count": null,
   "metadata": {},
   "outputs": [],
   "source": [
    "def listafrac():\n",
    "    import random\n",
    "    n=int(input(\"Quantas frações quer na sua lista? \"))\n",
    "    L=[]\n",
    "    for i in range(n):\n",
    "        num=random.randint(1,100)\n",
    "        den=random.randint(1,100)\n",
    "        L.append(criarFracao(num, den))\n",
    "    return(L)"
   ]
  },
  {
   "cell_type": "code",
   "execution_count": null,
   "metadata": {},
   "outputs": [],
   "source": [
    "def listM(n):\n",
    "    mlista=[]\n",
    "    for i in range(n):\n",
    "        nmr=input('Introduza um valor para numerador: ')\n",
    "        dn= input(\"Introduza um valor para denominador: '\")\n",
    "        while dn=='0':\n",
    "            dn=input('Introduza um valor válido para dn!!')\n",
    "        mlista.append(criarFracao(nmr,dn))\n",
    "        print(VerLista(mlista))\n",
    "    return(mlista)"
   ]
  },
  {
   "cell_type": "code",
   "execution_count": null,
   "metadata": {},
   "outputs": [],
   "source": [
    "def somadlistas(L):\n",
    "    Lnova=[]\n",
    "    if L!=None:\n",
    "        choice=input(\"Pretende a)somar outra lista aleatória ou b)escrever uma para somar?(a/b)\")\n",
    "        if choice=='a':\n",
    "            l2=listafrac()\n",
    "            for i in range(len(l2)):\n",
    "                Lnova.append(somafrac(L[i],l2[i]))\n",
    "            print(str(VerLista(L)) + \"+\" + str(VerLista(l2)) + \"=\" + str(VerLista(Lnova)) )\n",
    "            return(Lnova)\n",
    "        elif choice=='b':\n",
    "            n=len(L)\n",
    "            lm=listM(n)\n",
    "            for i in range(n):\n",
    "                Lnova.append(somafrac(L[i],lm[i]))\n",
    "            print(str(VerLista(L)) + \"+\" + str(VerLista(lm)) + \"=\" + str(VerLista(Lnova)) )\n",
    "            return(Lnova)\n",
    "    else:\n",
    "        choice=input(\"Pretende somar 2 listas feitas pelo utilizador? (s/n) \")\n",
    "        if choice=='s':\n",
    "            n=int(input(\"Quantos elementos tem as suas listas? \"))\n",
    "            l1=listM(n)\n",
    "            print(\"Defina agora a lista 2: \")\n",
    "            l2=listM(n)\n",
    "            for i in range(n):\n",
    "                Lnova.append(somafrac(l1[i],l2[i]))\n",
    "            print(str(VerLista(l1)) + \"+\" + str(VerLista(l2)) + \"=\" + str(VerLista(Lnova)) )\n",
    "            return(Lnova)\n",
    "        elif choice=='n':\n",
    "            print(\"Introduza uma lista primeiro!\")\n",
    "            return 0\n",
    "        else:\n",
    "            print(\"Erro\")\n",
    "            return 0\n",
    "        \n",
    "            \n",
    "        \n",
    "\n",
    "    "
   ]
  },
  {
   "cell_type": "code",
   "execution_count": null,
   "metadata": {},
   "outputs": [],
   "source": [
    "def maxLisFrac(L):\n",
    "    maior=L[0]\n",
    "    for elem in L:\n",
    "        div=elem[0]/elem[1]\n",
    "        if div > (maior[0]/maior[1]): \n",
    "            maior=elem \n",
    "    return(maior)"
   ]
  },
  {
   "cell_type": "code",
   "execution_count": null,
   "metadata": {},
   "outputs": [],
   "source": [
    "def VerLista(f):\n",
    "    v=[]\n",
    "    for elem in f:\n",
    "        v.append(str(elem[0])+\"/\"+ str(elem[1] )) \n",
    "    return v"
   ]
  },
  {
   "cell_type": "code",
   "execution_count": null,
   "metadata": {},
   "outputs": [],
   "source": [
    "    menu()\n",
    "    opc=1\n",
    "    frac=None\n",
    "    ListaFrac=None\n",
    "    while opc!='0':\n",
    "        opc=input(\"Opção: \")\n",
    "        if opc=='1': \n",
    "            num = input(\"Introduza o numerador: \")\n",
    "            den = input(\"Introduza o denominador: \")\n",
    "            if den==0:\n",
    "                print(\"Impossível\")\n",
    "            else:\n",
    "                frac=criarFracao(num,den)\n",
    "                print(verFracao(frac))\n",
    "\n",
    "        if frac!= None:\n",
    "\n",
    "            if opc=='2':\n",
    "                frac=simplificarFracao(frac)\n",
    "                print(verFracao(frac))\n",
    "\n",
    "            elif opc=='3': \n",
    "                num2= input(\"Introduza o valor do numerador da função a somar: \")\n",
    "                den2= input(\"Introduza o valor do denominador da função a somar: \")\n",
    "                f2=criarFracao(num2,den2)\n",
    "                frac= somafrac(frac,f2)\n",
    "                print(verFracao(frac))\n",
    "\n",
    "            elif opc== '4':\n",
    "                num2= input(\"Introduza o valor do numerador da função a subtrair: \")\n",
    "                den2= input(\"Introduza o valor do denominador da função a subtrair: \")\n",
    "                f2=criarFracao(num2,den2)\n",
    "                frac=subfrac(frac,f2)\n",
    "                print(verFracao(frac))\n",
    "\n",
    "            elif opc== '5':\n",
    "                num2= input(\"Introduza o valor do numerador da função a multiplicar: \")\n",
    "                den2= input(\"Introduza o valor do denominador da função a multiplicar: \")\n",
    "                f2=criarFracao(num2,den2)\n",
    "                frac=multfunc(frac,f2)\n",
    "                print(verFracao(frac))\n",
    "\n",
    "            elif opc == '6':\n",
    "                num2= input(\"Introduza o valor do numerador da função divisora: \")\n",
    "                den2= input(\"Introduza o valor do denominador da função divisora: \")\n",
    "                if den2!='0':\n",
    "                    f2=criarFracao(num2,den2)\n",
    "                    frac=divfunc(frac, f2)\n",
    "                    print(verFracao(frac)) \n",
    "                else:\n",
    "                    print(\"Erro matemático\")\n",
    "                    \n",
    "        elif opc == '7':\n",
    "            ListaFrac=listafrac()\n",
    "            print(VerLista(ListaFrac))\n",
    "\n",
    "        elif opc== '8':\n",
    "            ListaFrac=somadlistas(ListaFrac)\n",
    "        elif opc == '9':\n",
    "            if ListaFrac != None :\n",
    "                print(verFracao(maxLisFrac(ListaFrac)))\n",
    "            else:\n",
    "                print(\"Introduza uma lista primeiro!\")\n",
    "        elif opc=='0':\n",
    "             print(\"Até à próxima!\")\n",
    "        else:\n",
    "            print(\"Erro\")\n",
    "\n",
    "        \n",
    "\n"
   ]
  },
  {
   "cell_type": "code",
   "execution_count": null,
   "metadata": {},
   "outputs": [],
   "source": []
  }
 ],
 "metadata": {
  "interpreter": {
   "hash": "916dbcbb3f70747c44a77c7bcd40155683ae19c65e1c03b4aa3499c5328201f1"
  },
  "kernelspec": {
   "display_name": "Python 3.8.10 64-bit",
   "name": "python3"
  },
  "language_info": {
   "codemirror_mode": {
    "name": "ipython",
    "version": 3
   },
   "file_extension": ".py",
   "mimetype": "text/x-python",
   "name": "python",
   "nbconvert_exporter": "python",
   "pygments_lexer": "ipython3",
   "version": "3.8.10"
  },
  "orig_nbformat": 4
 },
 "nbformat": 4,
 "nbformat_minor": 2
}
