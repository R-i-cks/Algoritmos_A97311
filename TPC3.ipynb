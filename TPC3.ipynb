{
 "cells": [
  {
   "cell_type": "markdown",
   "metadata": {},
   "source": [
    "# Manifesto TPC3\n",
    "## Bubble sort\n",
    "\n",
    "Data de início: 2021/10/18 \n",
    "\n",
    "Data de término: 2021/10/22 \n",
    "\n",
    "Supervisor: José Carlos Ramalho http://www.di.uminho.pt/~jcr/ \n",
    "\n",
    "Autor: Ricardo Lopes Araújo A97311 \n",
    "\n",
    "### Resumo\n",
    "* Foram utilizadas funções criadas em sala de aula para criar listas manual e automaticamente, e ainda um menu que permite escolher entre estas 2 possibilidades e ainda o bubble sort.\n",
    "* De forma a ordenar a lista a função bubble(A) leva como argumento uma lista.\n",
    "* É utilizada um ciclo while que lê a posição i e i+1, guardando cada um dos elementos numa variável, e trocando-as de ordem quando estes números apresentam uma ordem decrescente.\n",
    "* É usado ainda outro ciclo while que utiliza uma variável c, que após uma mudança na ordem é sempre diferente do tamanho da lista, logo igual ao tamanho da mesma em casos de 0 mudanças, garantindo que apenas numa situação de ordenação completa o ciclo para.\n"
   ]
  },
  {
   "cell_type": "code",
   "execution_count": 14,
   "metadata": {},
   "outputs": [
    {
     "name": "stdout",
     "output_type": "stream",
     "text": [
      "Gestão de listas de inteiros\n",
      "    (1)Introduza a lista à mão\n",
      "    (2)Gerar lista com valores aleatórios\n",
      "    (3)Ordenar a lista (Bubble sort)\n",
      "    (0)Sair \n",
      "Até á próxima!\n"
     ]
    }
   ],
   "source": [
    "def listM():\n",
    "    n=int(input(\"Quantos elementos tem a sua lista? \"))\n",
    "    A=[]\n",
    "    for i in range(n):\n",
    "        num=int(input(\"Introduza um valor: \"))\n",
    "        A.append(num)\n",
    "    return(A)\n",
    "        \n",
    "def listA():\n",
    "    n1=int(input(\"Quantos elementos tem a sua lista? \"))\n",
    "    A1=[]\n",
    "    import random\n",
    "    for i in range(n1):\n",
    "        num1=random.randint(0,100)\n",
    "        A1.append(num1)\n",
    "    return(A1)\n",
    "\n",
    "\n",
    "def bubble(A):\n",
    "    c=len(A)+1\n",
    "    while c!=len(A):\n",
    "        i=0\n",
    "        c=len(A)\n",
    "        while i<(len(A)-1):\n",
    "            a=A[i]\n",
    "            b=A[i+1]\n",
    "            if a>b:\n",
    "                A[i]=b\n",
    "                A[i+1]=a\n",
    "                i=i+1\n",
    "                c=c+1\n",
    "            else:\n",
    "                i=i+1\n",
    "    print(A)\n",
    "    return(A)\n",
    "\n",
    "def menu():\n",
    "    print(\"\"\"Gestão de listas de inteiros\n",
    "    (1)Introduza a lista à mão\n",
    "    (2)Gerar lista com valores aleatórios\n",
    "    (3)Ordenar a lista (Bubble sort)\n",
    "    (0)Sair \"\"\")\n",
    "op=1\n",
    "while op!=\"0\" :\n",
    "    menu()\n",
    "    op=input(\"Qual é a sua opção? : \")\n",
    "    if (op==\"1\"):\n",
    "        a= listM()\n",
    "        print(a)\n",
    "    elif (op==\"2\"):\n",
    "        a= listA()\n",
    "        print(a)\n",
    "    elif (op==\"3\"):\n",
    "        if a!=None:\n",
    "            b=bubble(a)\n",
    "        else:\n",
    "            print(\"Introduza primeiro uma lista para ordenar\")\n",
    "    \n",
    "    elif op==\"0\":\n",
    "        print(\"Até á próxima!\")\n",
    "    else:\n",
    "        print(\"Opção inválida\")\n",
    "    \n",
    "\n",
    "    \n",
    "    "
   ]
  }
 ],
 "metadata": {
  "interpreter": {
   "hash": "b3ba2566441a7c06988d0923437866b63cedc61552a5af99d1f4fb67d367b25f"
  },
  "kernelspec": {
   "display_name": "Python 3.8.3 64-bit ('base': conda)",
   "name": "python3"
  },
  "language_info": {
   "codemirror_mode": {
    "name": "ipython",
    "version": 3
   },
   "file_extension": ".py",
   "mimetype": "text/x-python",
   "name": "python",
   "nbconvert_exporter": "python",
   "pygments_lexer": "ipython3",
   "version": "3.8.3"
  },
  "orig_nbformat": 4
 },
 "nbformat": 4,
 "nbformat_minor": 2
}
