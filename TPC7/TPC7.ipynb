{
 "cells": [
  {
   "cell_type": "markdown",
   "metadata": {},
   "source": [
    "## Leitura (exercício 1)\n",
    "\n",
    "Depois de pensares num modelo adequado especifica a função que lê o ficheiro e povoa esse modelo."
   ]
  },
  {
   "cell_type": "code",
   "execution_count": null,
   "metadata": {},
   "outputs": [],
   "source": [
    "\n",
    "def convInt(s):\n",
    "    return int(s)\n",
    "\n",
    "def getAluno(texto):\n",
    "    textoLimpo2=texto.replace(\"\\\"\",\"\") \n",
    "    campos=textoLimpo2.split(\",\")\n",
    "    aluno=[]\n",
    "    aluno.append(campos[0])\n",
    "    aluno.append(campos[1])\n",
    "    aluno.append(campos[2])\n",
    "    aluno.append(campos[3:])\n",
    "    lista=[]\n",
    "    for s in aluno[3]:\n",
    "        s=lista.append(int(s))\n",
    "    aluno[3]=lista\n",
    "    return aluno\n",
    "\n",
    "\n",
    "def lerDataset(fnome):\n",
    "    f=open(fnome,encoding=\"utf-8\")\n",
    "    bd=[]\n",
    "    f.readline()\n",
    "    for linha in f:\n",
    "        bd.append(getAluno(linha))\n",
    "    return bd"
   ]
  },
  {
   "cell_type": "code",
   "execution_count": null,
   "metadata": {},
   "outputs": [],
   "source": [
    "BD = []\n",
    "BD = lerDataset(\"alunos.csv\")"
   ]
  },
  {
   "cell_type": "markdown",
   "metadata": {},
   "source": [
    "## Listagem (exercí­cio 2)\n",
    "\n",
    "Especifica uma função que faça a listagem no monitor dos vários registos de informação.\n",
    "Tenta dar a forma duma tabela em que as colunas tenham todas a mesma dimensão."
   ]
  },
  {
   "cell_type": "code",
   "execution_count": null,
   "metadata": {},
   "outputs": [],
   "source": [
    "\n",
    "\n",
    "\n",
    "# Listagem da informaÃ§Ã£o\n",
    "def chaveOrd(aluno):\n",
    "    return(int(aluno[0].replace(\"a\",\"\")))\n",
    "\n",
    "\n",
    "\n",
    "def listarDataset(bd):\n",
    "    bd.sort(key=chaveOrd)\n",
    "    print(\" id   nome  curso   média\")\n",
    "    print(\"-------------------------\")\n",
    "    for a in bd:\n",
    "        print(a[0]+\"|\"+a[1]+\"|\"+a[2]+\"|\"+str(sum(a[3])/4))\n",
    "\n",
    "listarDataset(BD)\n",
    "    "
   ]
  },
  {
   "cell_type": "markdown",
   "metadata": {},
   "source": [
    "## Consulta de um registo (exercício 3)\n",
    "\n",
    "Especifica uma função que, dado o id de um aluno, coloca a sua informação no monitor. Para além disso, indica também a média dos TPC realizados."
   ]
  },
  {
   "cell_type": "code",
   "execution_count": null,
   "metadata": {},
   "outputs": [],
   "source": [
    "# Consulta de um registo\n",
    "def media(L):\n",
    "    m=0\n",
    "    for elem in L:\n",
    "        m=m + elem\n",
    "    m=m/len(L)\n",
    "    return(m)\n",
    "\n",
    "def consultarDataset(bd, id):\n",
    "        i=1\n",
    "        encontrado = False\n",
    "        while i!=len(bd) and not encontrado:\n",
    "            aluno=bd[i]\n",
    "            if aluno[0]==id:\n",
    "                encontrado=True\n",
    "                return(aluno,media(aluno[3]))\n",
    "            else:\n",
    "                i=i+1\n",
    "        if not encontrado:\n",
    "            print(\"Não existe nenhum aluno com esse id\")\n",
    "        "
   ]
  },
  {
   "cell_type": "markdown",
   "metadata": {},
   "source": [
    "## Top 10 (exercí­cio 4)\n",
    "\n",
    "Especifica um função que dá como resultado uma lista com os alunos com as 10 médias mais altas: id, nome, curso, média."
   ]
  },
  {
   "cell_type": "code",
   "execution_count": null,
   "metadata": {},
   "outputs": [],
   "source": [
    "def chaveOrd1(aluno):\n",
    "    return(aluno[3])\n",
    "\n",
    "def list10(bd):\n",
    "    top=bd\n",
    "    for elem in top:\n",
    "        elem[3]=media(elem[3])\n",
    "    top.sort(key=chaveOrd1)\n",
    "    top.reverse()\n",
    "    top10=top[:10]\n",
    "    print(top10)\n",
    "    return\n",
    "list10(BD)\n"
   ]
  },
  {
   "cell_type": "markdown",
   "metadata": {},
   "source": [
    "## Distribuição por curso (exercí­cio 5)\n",
    "\n",
    "Especifica uma função que dá como resultado uma lista de pares indicando quantos alunos há em cada curso."
   ]
  },
  {
   "cell_type": "code",
   "execution_count": null,
   "metadata": {},
   "outputs": [],
   "source": [
    "def distribPorCurso(bd):\n",
    "    distribuicao={}\n",
    "    for a in bd:\n",
    "        if a[2] in distribuicao.keys():\n",
    "            distribuicao[a[2]]= distribuicao[a[2]]+1\n",
    "        else:\n",
    "            distribuicao[a[2]]= 1\n",
    "    return distribuicao\n",
    "\n",
    "d=distribPorCurso(BD)\n",
    "print(d)"
   ]
  },
  {
   "cell_type": "markdown",
   "metadata": {},
   "source": [
    "## Distribuição por médias (exercí­cio 6)\n",
    "\n",
    "Especifica uma função que dá como resultado uma lista de pares, média e número de alunos com essa média (considera o valor inteiro da média)."
   ]
  },
  {
   "cell_type": "code",
   "execution_count": null,
   "metadata": {},
   "outputs": [],
   "source": [
    "def distribPorMedia(bd):\n",
    "    distribuicao={}\n",
    "    for a in bd:\n",
    "        m=media(a[3])\n",
    "        if m in distribuicao.keys():\n",
    "            distribuicao[m]= distribuicao[m]+1\n",
    "        else:\n",
    "            distribuicao[m]= 1\n",
    "    return distribuicao\n",
    "\n",
    "dM=distribPorMedia(BD)\n",
    "print(dM)\n"
   ]
  },
  {
   "cell_type": "markdown",
   "metadata": {},
   "source": [
    "# Gráficos\n",
    "\n",
    "## Gráfico da distribuição por curso (exercício 7)\n",
    "\n",
    "Especifica uma função que faz o plot dum gráfico com a distribuição de alunos por curso."
   ]
  },
  {
   "cell_type": "code",
   "execution_count": null,
   "metadata": {},
   "outputs": [],
   "source": [
    "import matplotlib.pyplot as plt\n",
    "import numpy as np"
   ]
  },
  {
   "cell_type": "code",
   "execution_count": null,
   "metadata": {},
   "outputs": [],
   "source": [
    "def plotDistribPorCurso(d):\n",
    "    cursos=d.keys()\n",
    "    nalunos=d.values()\n",
    "    plt.bar(cursos,nalunos)\n",
    "    plt.ylabel(\"Nº Alunos\")\n",
    "    plt.xlabel(\"Cursos\")\n",
    "    plt.show()\n",
    "\n",
    "plotDistribPorCurso(d)\n",
    "    \n",
    "\n",
    "    \n",
    "    "
   ]
  },
  {
   "cell_type": "markdown",
   "metadata": {},
   "source": [
    "## Gráfico da distribuição por média (exercí­cio 8)\n",
    "\n",
    "Especifica uma função que faz o plot dum gráfico com a distribuição de alunos por média."
   ]
  },
  {
   "cell_type": "code",
   "execution_count": null,
   "metadata": {},
   "outputs": [],
   "source": [
    "def plotDistribPorMedia(dM):\n",
    "    medias=dM.keys()\n",
    "    na=dM.values()\n",
    "    plt.bar(medias,na)\n",
    "    plt.xlabel(\"Média\")\n",
    "    plt.ylabel(\"Alunos\")\n",
    "    plt.show()\n",
    "\n",
    "plotDistribPorMedia(dM)\n",
    "    "
   ]
  }
 ],
 "metadata": {
  "interpreter": {
   "hash": "aee8b7b246df8f9039afb4144a1f6fd8d2ca17a180786b69acc140d282b71a49"
  },
  "kernelspec": {
   "display_name": "Python 3.9.1 64-bit",
   "name": "python3"
  },
  "language_info": {
   "codemirror_mode": {
    "name": "ipython",
    "version": 3
   },
   "file_extension": ".py",
   "mimetype": "text/x-python",
   "name": "python",
   "nbconvert_exporter": "python",
   "pygments_lexer": "ipython3",
   "version": "3.10.0"
  },
  "orig_nbformat": 4
 },
 "nbformat": 4,
 "nbformat_minor": 2
}
