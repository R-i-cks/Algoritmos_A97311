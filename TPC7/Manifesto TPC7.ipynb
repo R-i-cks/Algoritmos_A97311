{
 "cells": [
  {
   "cell_type": "markdown",
   "metadata": {},
   "source": [
    "# Manifesto TPC 7\n",
    "\n",
    "Data de início: 2021/11/22\n",
    "\n",
    "Data de término: 2021/11/28\n",
    "\n",
    "Supervisor: José Carlos Ramalho http://www.di.uminho.pt/~jcr/\n",
    "\n",
    "Autor: Ricardo Lopes Araújo A97311\n",
    "\n",
    "\n",
    "### Resumo"
   ]
  },
  {
   "cell_type": "markdown",
   "metadata": {},
   "source": [
    "* Algumas das funções foram feitas em sala de aula, pelo que o tpc é apenas a conclusão dos restantes exercícios.\n",
    "* Para resolver o Ex 3 foram desenvolvidas 2 funções: média(L) ( que calcula a média dos tpcs de cada aluno, sendo L essa lista) e consultarDataSet(bd,id), que percorre uma determinada base de dados(bd) à procura do id do aluno.\n",
    "* Na resolução do Ex 4 foi implementado um algoritmo para apresentar o top 10 das médias dos alunos da base de dados. Este ordena a base de dados consoante as médias, da menor para a maior, inverte a lista e apresenta os primeiros 10 elementos.\n",
    "* A resolução do Ex 6 assemelha-se à do Ex 5, contando a ocorrência de cada média e guardado na forma de dicionário.\n",
    "* A resolução do Ex 7 e 8 baseia-se num gráfico dos Ex 5 e 6. O código do gráfico é do site do módulo matplotlib."
   ]
  }
 ],
 "metadata": {
  "interpreter": {
   "hash": "f9e38bc3be81ebacfcbe4d5336b7533967756dd781729e14ec32a2ccf93b4fdd"
  },
  "kernelspec": {
   "display_name": "Python 3.10.0 64-bit",
   "language": "python",
   "name": "python3"
  },
  "language_info": {
   "name": "python",
   "version": "3.10.0"
  },
  "orig_nbformat": 4
 },
 "nbformat": 4,
 "nbformat_minor": 2
}
