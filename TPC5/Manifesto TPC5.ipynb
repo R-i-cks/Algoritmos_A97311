{
 "cells": [
  {
   "cell_type": "markdown",
   "metadata": {},
   "source": [
    "# Manifesto TPC5\n",
    "\n",
    "Data de início: 2021/11/8\n",
    "\n",
    "Data de término: 2021/11/14\n",
    "\n",
    "Supervisor: José Carlos Ramalho http://www.di.uminho.pt/~jcr/\n",
    "\n",
    "Autor: Ricardo Lopes Araújo A97311\n",
    "\n",
    "\n",
    "### Resumo"
   ]
  },
  {
   "cell_type": "markdown",
   "metadata": {},
   "source": [
    "* A maioria das funções foram criadas na aula, com exceção da função derivada, das funções que mudam uma lista de tuplos para uma lsta de listas e vice versa, e da função simplificar, contudo às primeiras foram feitas alterações para melhor encaixarem nas desenvolvidas.\n",
    "* O menu é constituído por 5 opções mais a de saída.\n",
    "* Na 1ª opção o utilizador cria um polinómio.\n",
    "* A 2ª opção calcula o polinómio através da introdução de um x pretendido.\n",
    "* Na 3ª  opção verificámos algo semelhante à 2ª, com a diferença que x é o número até ao qual queremos calcular.\n",
    "* A 4ª opção simplifica o polinómio, tendo para isto uma função que soma recursivamente os elementos cujo x tenha o mesmo expoente, parando quando todos os elementos tem expoentes diferentes.\n",
    "* Na 5ª opção calcula a derivada do polinómio, termo a termo. Para tal multiplica-se a posição 1 do tuplo que representa o polinómio ( após ser convertido para lista) pela posição 0, tomando esta última o valor do resultado e subtraindo 1 à posição 1. Se o termo do polinómio for um número, então este toma o valor de 0.\n",
    "* A função VerTermo sofreu alterações de forma a acomodar os resultados da derivada e tornar a representação mais correta. Quando o valor do coeficente é 1 a função mostra apenas x e o expoente, que se também for 1, passa a não aparecer. Para valores superiores a 1 ou inferiores a 0 no coeficiente, o mesmo se passa relativamente ao expoente. No caso que o coeficiente de x passa a 0 na derivada, esta função mostra apenas o número. Em caso que pela derivada o valor do termo vá para 0, (0,0), a função não o imprime.\n",
    "* A função VerPolinomio mostra a função VerTermo separada por + ou apenas espaço (pois o coeficiente já tem o sinal)."
   ]
  }
 ],
 "metadata": {
  "language_info": {
   "name": "python"
  },
  "orig_nbformat": 4
 },
 "nbformat": 4,
 "nbformat_minor": 2
}
